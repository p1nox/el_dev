{
 "cells": [
  {
   "cell_type": "code",
   "execution_count": 71,
   "id": "sized-impact",
   "metadata": {},
   "outputs": [],
   "source": [
    "# ingredientes\n",
    "tomates = [1, 1000, 1, 1, 100]\n",
    "\n",
    "# obtener\n",
    "salsa = 0\n",
    "\n",
    "# procedimiento\n",
    "def acumulador_tomates(tomates, salsa):\n",
    "    for t in tomates:\n",
    "        print(\"salsa: \", salsa, \"tomate: \", t)\n",
    "        if salsa <= 64:\n",
    "            salsa = salsa + t\n",
    "    return salsa"
   ]
  },
  {
   "cell_type": "code",
   "execution_count": 72,
   "id": "voluntary-mapping",
   "metadata": {},
   "outputs": [
    {
     "name": "stdout",
     "output_type": "stream",
     "text": [
      "salsa:  0 tomate:  1\n",
      "salsa:  1 tomate:  1000\n",
      "salsa:  1001 tomate:  1\n",
      "salsa:  1001 tomate:  1\n",
      "salsa:  1001 tomate:  100\n",
      "1001\n"
     ]
    }
   ],
   "source": [
    "salsa = acumulador_tomates(tomates, salsa)\n",
    "print(salsa)"
   ]
  },
  {
   "cell_type": "code",
   "execution_count": 4,
   "id": "differential-rachel",
   "metadata": {},
   "outputs": [
    {
     "data": {
      "text/plain": [
       "2"
      ]
     },
     "execution_count": 4,
     "metadata": {},
     "output_type": "execute_result"
    }
   ],
   "source": [
    "1 + 1"
   ]
  },
  {
   "cell_type": "code",
   "execution_count": 9,
   "id": "bibliographic-noise",
   "metadata": {},
   "outputs": [
    {
     "name": "stdout",
     "output_type": "stream",
     "text": [
      "hola mundo\n"
     ]
    }
   ],
   "source": [
    "# hola mundo\n",
    "print(\"hola mundo\")"
   ]
  },
  {
   "cell_type": "code",
   "execution_count": 10,
   "id": "defensive-folks",
   "metadata": {},
   "outputs": [
    {
     "data": {
      "text/plain": [
       "1"
      ]
     },
     "execution_count": 10,
     "metadata": {},
     "output_type": "execute_result"
    }
   ],
   "source": [
    "1"
   ]
  },
  {
   "cell_type": "code",
   "execution_count": 11,
   "id": "wooden-logic",
   "metadata": {},
   "outputs": [
    {
     "data": {
      "text/plain": [
       "1.0"
      ]
     },
     "execution_count": 11,
     "metadata": {},
     "output_type": "execute_result"
    }
   ],
   "source": [
    "1.0"
   ]
  },
  {
   "cell_type": "code",
   "execution_count": 16,
   "id": "fatal-tuning",
   "metadata": {},
   "outputs": [
    {
     "data": {
      "text/plain": [
       "str"
      ]
     },
     "execution_count": 16,
     "metadata": {},
     "output_type": "execute_result"
    }
   ],
   "source": [
    "# \"Cadenas de texto!\" # string\n",
    "type(\"Cadenas de texto!\")"
   ]
  },
  {
   "cell_type": "code",
   "execution_count": 19,
   "id": "failing-evolution",
   "metadata": {},
   "outputs": [
    {
     "data": {
      "text/plain": [
       "[[1, 2], [3, 4], [5, 6]]"
      ]
     },
     "execution_count": 19,
     "metadata": {},
     "output_type": "execute_result"
    }
   ],
   "source": [
    "[[1, 2], [3, 4], [5, 6]]"
   ]
  },
  {
   "cell_type": "code",
   "execution_count": 28,
   "id": "ready-chest",
   "metadata": {},
   "outputs": [
    {
     "name": "stdout",
     "output_type": "stream",
     "text": [
      "10\n",
      "['tomate verde', 'tomate rojo', 'tomate azul']\n",
      "Tomatino verde\n"
     ]
    }
   ],
   "source": [
    "cantidad_de_tomates = 10\n",
    "print(cantidad_de_tomates)\n",
    "\n",
    "lista_de_tomates = [\"tomate verde\", \"tomate rojo\", \"tomate azul\"]\n",
    "print(lista_de_tomates)\n",
    "\n",
    "nombre_del_tomate_verde = \"Tomatino verde\"\n",
    "print(nombre_del_tomate_verde)"
   ]
  },
  {
   "cell_type": "code",
   "execution_count": 34,
   "id": "adaptive-jacket",
   "metadata": {},
   "outputs": [
    {
     "data": {
      "text/plain": [
       "False"
      ]
     },
     "execution_count": 34,
     "metadata": {},
     "output_type": "execute_result"
    }
   ],
   "source": [
    "# booleano\n",
    "cantidad_de_tomates == 5"
   ]
  },
  {
   "cell_type": "code",
   "execution_count": 37,
   "id": "olympic-lease",
   "metadata": {},
   "outputs": [
    {
     "name": "stdout",
     "output_type": "stream",
     "text": [
      "hola1\n",
      "habemus salsa!\n",
      "hola2\n"
     ]
    }
   ],
   "source": [
    "print(\"hola1\")\n",
    "\n",
    "estado_del_tomate = \"podrido\"\n",
    "if estado_del_tomate != \"podrido\":\n",
    "    print(\"se pudrio el tomate!\")\n",
    "else:\n",
    "    print(\"habemus salsa!\")\n",
    "    \n",
    "print(\"hola2\")"
   ]
  },
  {
   "cell_type": "code",
   "execution_count": 41,
   "id": "stupid-effort",
   "metadata": {},
   "outputs": [
    {
     "name": "stdout",
     "output_type": "stream",
     "text": [
      "1\n",
      "---\n",
      "2\n",
      "---\n",
      "3\n",
      "---\n"
     ]
    }
   ],
   "source": [
    "lista_de_tomates = [1, 2, 3]\n",
    "\n",
    "for tomate in lista_de_tomates:\n",
    "    print(tomate)\n",
    "    print('---')"
   ]
  },
  {
   "cell_type": "code",
   "execution_count": 42,
   "id": "hydraulic-agriculture",
   "metadata": {},
   "outputs": [],
   "source": [
    "# f(x) = x + 1\n",
    "# f(10) = 11"
   ]
  },
  {
   "cell_type": "code",
   "execution_count": 43,
   "id": "bigger-lighting",
   "metadata": {},
   "outputs": [],
   "source": [
    "def f_de_x(x):\n",
    "    return x + 1"
   ]
  },
  {
   "cell_type": "code",
   "execution_count": 44,
   "id": "protected-hunter",
   "metadata": {},
   "outputs": [
    {
     "data": {
      "text/plain": [
       "11"
      ]
     },
     "execution_count": 44,
     "metadata": {},
     "output_type": "execute_result"
    }
   ],
   "source": [
    "f_de_x(10)"
   ]
  },
  {
   "cell_type": "code",
   "execution_count": 45,
   "id": "determined-kingdom",
   "metadata": {},
   "outputs": [],
   "source": [
    "def mostrar_tomates(lista_de_tomates):\n",
    "    for tomate in lista_de_tomates:\n",
    "        print(tomate)"
   ]
  },
  {
   "cell_type": "code",
   "execution_count": 49,
   "id": "demonstrated-pottery",
   "metadata": {},
   "outputs": [
    {
     "name": "stdout",
     "output_type": "stream",
     "text": [
      "tomate verdecito\n",
      "tomate menos verde\n",
      "tomate no tan verde\n",
      "1\n",
      "2\n",
      "3\n",
      "5555\n",
      "2\n",
      "4\n"
     ]
    }
   ],
   "source": [
    "lista_de_tomates_verdes = [\"tomate verdecito\", \"tomate menos verde\", \"tomate no tan verde\"]\n",
    "# ...\n",
    "mostrar_tomates(lista_de_tomates_verdes)\n",
    "mostrar_tomates(lista_de_tomates)\n",
    "mostrar_tomates([5555, 2, 4])"
   ]
  },
  {
   "cell_type": "code",
   "execution_count": null,
   "id": "liable-niger",
   "metadata": {},
   "outputs": [],
   "source": []
  },
  {
   "cell_type": "code",
   "execution_count": null,
   "id": "crude-legislature",
   "metadata": {},
   "outputs": [],
   "source": []
  },
  {
   "cell_type": "code",
   "execution_count": null,
   "id": "internal-conviction",
   "metadata": {},
   "outputs": [],
   "source": []
  },
  {
   "cell_type": "code",
   "execution_count": null,
   "id": "amber-rescue",
   "metadata": {},
   "outputs": [],
   "source": []
  },
  {
   "cell_type": "code",
   "execution_count": null,
   "id": "stainless-italy",
   "metadata": {},
   "outputs": [],
   "source": []
  },
  {
   "cell_type": "code",
   "execution_count": null,
   "id": "hundred-great",
   "metadata": {},
   "outputs": [],
   "source": []
  },
  {
   "cell_type": "code",
   "execution_count": null,
   "id": "sealed-delicious",
   "metadata": {},
   "outputs": [],
   "source": []
  },
  {
   "cell_type": "code",
   "execution_count": null,
   "id": "dietary-animation",
   "metadata": {},
   "outputs": [],
   "source": [
    "\n",
    "\n"
   ]
  }
 ],
 "metadata": {
  "kernelspec": {
   "display_name": "Python 3",
   "language": "python",
   "name": "python3"
  },
  "language_info": {
   "codemirror_mode": {
    "name": "ipython",
    "version": 3
   },
   "file_extension": ".py",
   "mimetype": "text/x-python",
   "name": "python",
   "nbconvert_exporter": "python",
   "pygments_lexer": "ipython3",
   "version": "3.6.5"
  }
 },
 "nbformat": 4,
 "nbformat_minor": 5
}
